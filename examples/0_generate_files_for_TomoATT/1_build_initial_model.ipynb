{
 "cells": [
  {
   "attachments": {},
   "cell_type": "markdown",
   "metadata": {},
   "source": [
    "# notebook for create init and true test model"
   ]
  },
  {
   "cell_type": "code",
   "execution_count": 1,
   "metadata": {},
   "outputs": [
    {
     "name": "stdout",
     "output_type": "stream",
     "text": [
      "dir models exists\n"
     ]
    }
   ],
   "source": [
    "import numpy as np\n",
    "import math\n",
    "import os\n",
    "\n",
    "# study region\n",
    "R_earth = 6371.0\n",
    "\n",
    "rr1=R_earth - 50\n",
    "rr2=R_earth + 10\n",
    "tt1=(30.0)\n",
    "tt2=(32.0)\n",
    "pp1=(30.0)\n",
    "pp2=(32.0)\n",
    "\n",
    "try:\n",
    "    os.mkdir(\"models\")\n",
    "except:\n",
    "    print(\"dir models exists\")\n"
   ]
  },
  {
   "cell_type": "code",
   "execution_count": 2,
   "metadata": {},
   "outputs": [],
   "source": [
    "# build the initial model\n",
    "import h5py\n",
    "\n",
    "\n",
    "\n",
    "# model\n",
    "n_rtp = [61,61,61]\n",
    "dr = (rr2-rr1)/(n_rtp[0]-1)\n",
    "dt = (tt2-tt1)/(n_rtp[1]-1)\n",
    "dp = (pp2-pp1)/(n_rtp[2]-1)\n",
    "rr = np.array([rr1 + x*dr for x in range(n_rtp[0])])\n",
    "tt = np.array([tt1 + x*dt for x in range(n_rtp[1])])\n",
    "pp = np.array([pp1 + x*dp for x in range(n_rtp[2])])\n",
    "\n",
    "vel_init    = np.zeros(n_rtp)   # velocity\n",
    "xi_init     = np.zeros(n_rtp)   # xi and eta are azimuthal anisotropy\n",
    "eta_init    = np.zeros(n_rtp)\n",
    "zeta_init   = np.zeros(n_rtp)\n",
    "\n",
    "\n",
    "for ir in range(n_rtp[0]):\n",
    "    for it in range(n_rtp[1]):\n",
    "        for ip in range(n_rtp[2]):\n",
    "\n",
    "            dep = R_earth - rr[ir]\n",
    "            if (dep < 0):\n",
    "                vel_init[ir,it,ip]  = 6.0\n",
    "            elif (dep >= 0  and dep < 40):\n",
    "                vel_init[ir,it,ip]  = 6.0 + dep/40*2.0\n",
    "            else:\n",
    "                vel_init[ir,it,ip]  = 8.0\n",
    "            \n",
    "\n",
    "            xi_init[ir,it,ip]   = 0.0\n",
    "            eta_init[ir,it,ip]  = 0.0\n",
    "            zeta_init[ir,it,ip] = 0.0\n",
    "\n",
    "\n",
    "# write out in hdf5 format\n",
    "\n",
    "fout_init = h5py.File('models/model_init_N%d_%d_%d.h5'%(n_rtp[0],n_rtp[1],n_rtp[2]), 'w')\n",
    "# write out the arrays eta_init, xi_init, zeta_init, fun_init, a_init, b_init, c_init, f_init\n",
    "fout_init.create_dataset('eta', data=eta_init)\n",
    "fout_init.create_dataset('xi', data=xi_init)\n",
    "fout_init.create_dataset('zeta', data=zeta_init)\n",
    "fout_init.create_dataset('vel', data=vel_init)\n",
    "\n",
    "fout_init.close()\n",
    "\n",
    "\n"
   ]
  }
 ],
 "metadata": {
  "kernelspec": {
   "display_name": "Python 3",
   "language": "python",
   "name": "python3"
  },
  "language_info": {
   "codemirror_mode": {
    "name": "ipython",
    "version": 3
   },
   "file_extension": ".py",
   "mimetype": "text/x-python",
   "name": "python",
   "nbconvert_exporter": "python",
   "pygments_lexer": "ipython3",
   "version": "3.10.4"
  },
  "orig_nbformat": 4,
  "vscode": {
   "interpreter": {
    "hash": "c8112a80bcc57e66f52aa6c921b20667122cfa5e8b1ad09e9dfbd3a3ba336bd6"
   }
  }
 },
 "nbformat": 4,
 "nbformat_minor": 2
}

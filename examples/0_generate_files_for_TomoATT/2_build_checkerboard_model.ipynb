{
 "cells": [
  {
   "attachments": {},
   "cell_type": "markdown",
   "metadata": {},
   "source": [
    "# notebook for create init and true test model"
   ]
  },
  {
   "cell_type": "code",
   "execution_count": 1,
   "metadata": {},
   "outputs": [
    {
     "name": "stdout",
     "output_type": "stream",
     "text": [
      "[30.         30.03333333 30.06666667 30.1        30.13333333 30.16666667\n",
      " 30.2        30.23333333 30.26666667 30.3        30.33333333 30.36666667\n",
      " 30.4        30.43333333 30.46666667 30.5        30.53333333 30.56666667\n",
      " 30.6        30.63333333 30.66666667 30.7        30.73333333 30.76666667\n",
      " 30.8        30.83333333 30.86666667 30.9        30.93333333 30.96666667\n",
      " 31.         31.03333333 31.06666667 31.1        31.13333333 31.16666667\n",
      " 31.2        31.23333333 31.26666667 31.3        31.33333333 31.36666667\n",
      " 31.4        31.43333333 31.46666667 31.5        31.53333333 31.56666667\n",
      " 31.6        31.63333333 31.66666667 31.7        31.73333333 31.76666667\n",
      " 31.8        31.83333333 31.86666667 31.9        31.93333333 31.96666667\n",
      " 32.        ] 30.5 31.5\n",
      "15 15 0.03333333333333333\n",
      "[30.         30.03333333 30.06666667 30.1        30.13333333 30.16666667\n",
      " 30.2        30.23333333 30.26666667 30.3        30.33333333 30.36666667\n",
      " 30.4        30.43333333 30.46666667 30.5        30.53333333 30.56666667\n",
      " 30.6        30.63333333 30.66666667 30.7        30.73333333 30.76666667\n",
      " 30.8        30.83333333 30.86666667 30.9        30.93333333 30.96666667\n",
      " 31.         31.03333333 31.06666667 31.1        31.13333333 31.16666667\n",
      " 31.2        31.23333333 31.26666667 31.3        31.33333333 31.36666667\n",
      " 31.4        31.43333333 31.46666667 31.5        31.53333333 31.56666667\n",
      " 31.6        31.63333333 31.66666667 31.7        31.73333333 31.76666667\n",
      " 31.8        31.83333333 31.86666667 31.9        31.93333333 31.96666667\n",
      " 32.        ] 30.5 31.5\n",
      "15 15 0.03333333333333333\n",
      "[-10.  -9.  -8.  -7.  -6.  -5.  -4.  -3.  -2.  -1.   0.   1.   2.   3.\n",
      "   4.   5.   6.   7.   8.   9.  10.  11.  12.  13.  14.  15.  16.  17.\n",
      "  18.  19.  20.  21.  22.  23.  24.  25.  26.  27.  28.  29.  30.  31.\n",
      "  32.  33.  34.  35.  36.  37.  38.  39.  40.  41.  42.  43.  44.  45.\n",
      "  46.  47.  48.  49.  50.] 0 40\n",
      "-10 -10 -1.0\n"
     ]
    },
    {
     "ename": "ValueError",
     "evalue": "could not broadcast input array from shape (81,) into shape (10,)",
     "output_type": "error",
     "traceback": [
      "\u001b[0;31m---------------------------------------------------------------------------\u001b[0m",
      "\u001b[0;31mValueError\u001b[0m                                Traceback (most recent call last)",
      "Cell \u001b[0;32mIn[1], line 24\u001b[0m\n\u001b[1;32m     20\u001b[0m vel_pert \u001b[38;5;241m=\u001b[39m \u001b[38;5;241m0.06\u001b[39m\n\u001b[1;32m     21\u001b[0m ani_pert \u001b[38;5;241m=\u001b[39m \u001b[38;5;241m0.04\u001b[39m\n\u001b[0;32m---> 24\u001b[0m \u001b[43mchecker_model\u001b[49m\u001b[38;5;241;43m.\u001b[39;49m\u001b[43mcheckerboard\u001b[49m\u001b[43m(\u001b[49m\n\u001b[1;32m     25\u001b[0m \u001b[43m    \u001b[49m\u001b[38;5;241;43m2\u001b[39;49m\u001b[43m,\u001b[49m\u001b[43m \u001b[49m\u001b[38;5;241;43m2\u001b[39;49m\u001b[43m,\u001b[49m\u001b[43m \u001b[49m\u001b[38;5;241;43m2\u001b[39;49m\u001b[43m,\u001b[49m\n\u001b[1;32m     26\u001b[0m \u001b[43m    \u001b[49m\u001b[43mpert_vel\u001b[49m\u001b[38;5;241;43m=\u001b[39;49m\u001b[38;5;241;43m0.08\u001b[39;49m\u001b[43m,\u001b[49m\u001b[43m \u001b[49m\u001b[43mpert_ani\u001b[49m\u001b[38;5;241;43m=\u001b[39;49m\u001b[38;5;241;43m0.04\u001b[39;49m\u001b[43m,\u001b[49m\n\u001b[1;32m     27\u001b[0m \u001b[43m    \u001b[49m\u001b[43mlim_x\u001b[49m\u001b[38;5;241;43m=\u001b[39;49m\u001b[43m[\u001b[49m\u001b[38;5;241;43m30.5\u001b[39;49m\u001b[43m,\u001b[49m\u001b[43m \u001b[49m\u001b[38;5;241;43m31.5\u001b[39;49m\u001b[43m]\u001b[49m\u001b[43m,\u001b[49m\u001b[43m \u001b[49m\u001b[43mlim_y\u001b[49m\u001b[38;5;241;43m=\u001b[39;49m\u001b[43m[\u001b[49m\u001b[38;5;241;43m30.5\u001b[39;49m\u001b[43m,\u001b[49m\u001b[43m \u001b[49m\u001b[38;5;241;43m31.5\u001b[39;49m\u001b[43m]\u001b[49m\u001b[43m,\u001b[49m\u001b[43m \u001b[49m\u001b[43mlim_z\u001b[49m\u001b[38;5;241;43m=\u001b[39;49m\u001b[43m[\u001b[49m\u001b[38;5;241;43m0\u001b[39;49m\u001b[43m,\u001b[49m\u001b[43m \u001b[49m\u001b[38;5;241;43m40\u001b[39;49m\u001b[43m]\u001b[49m\n\u001b[1;32m     28\u001b[0m \u001b[43m)\u001b[49m\n\u001b[1;32m     30\u001b[0m checker_model\u001b[38;5;241m.\u001b[39mwrite(\u001b[38;5;124m'\u001b[39m\u001b[38;5;124m2_models/model_ckb_N\u001b[39m\u001b[38;5;132;01m{:d}\u001b[39;00m\u001b[38;5;124m_\u001b[39m\u001b[38;5;132;01m{:d}\u001b[39;00m\u001b[38;5;124m_\u001b[39m\u001b[38;5;132;01m{:d}\u001b[39;00m\u001b[38;5;124m.h5\u001b[39m\u001b[38;5;124m'\u001b[39m\u001b[38;5;241m.\u001b[39mformat(\u001b[38;5;241m*\u001b[39mn_rtp))\n",
      "File \u001b[0;32m~/opt/miniconda3_arm/lib/python3.9/site-packages/pytomoatt/checkerboard.py:99\u001b[0m, in \u001b[0;36mChecker.checkerboard\u001b[0;34m(self, period_x, period_y, period_z, pert_vel, pert_ani, lim_x, lim_y, lim_z)\u001b[0m\n\u001b[1;32m     97\u001b[0m     ntaper_right \u001b[38;5;241m=\u001b[39m \u001b[38;5;241m0\u001b[39m\n\u001b[1;32m     98\u001b[0m z_pert \u001b[38;5;241m=\u001b[39m np\u001b[38;5;241m.\u001b[39mzeros_like(\u001b[38;5;28mself\u001b[39m\u001b[38;5;241m.\u001b[39mdd)\n\u001b[0;32m---> 99\u001b[0m \u001b[43mz_pert\u001b[49m\u001b[43m[\u001b[49m\u001b[43mntaper_right\u001b[49m\u001b[43m:\u001b[49m\u001b[38;5;28;43mself\u001b[39;49m\u001b[38;5;241;43m.\u001b[39;49m\u001b[43mdd\u001b[49m\u001b[38;5;241;43m.\u001b[39;49m\u001b[43msize\u001b[49m\u001b[38;5;241;43m-\u001b[39;49m\u001b[43mntaper_left\u001b[49m\u001b[43m]\u001b[49m \u001b[38;5;241m=\u001b[39m \\\n\u001b[1;32m    100\u001b[0m     np\u001b[38;5;241m.\u001b[39msin(period_z\u001b[38;5;241m*\u001b[39mnp\u001b[38;5;241m.\u001b[39mpi\u001b[38;5;241m*\u001b[39mnp\u001b[38;5;241m.\u001b[39marange(\u001b[38;5;28mself\u001b[39m\u001b[38;5;241m.\u001b[39mdd\u001b[38;5;241m.\u001b[39msize\u001b[38;5;241m-\u001b[39m(ntaper_left\u001b[38;5;241m+\u001b[39mntaper_right))\u001b[38;5;241m/\u001b[39m \\\n\u001b[1;32m    101\u001b[0m     (\u001b[38;5;28mself\u001b[39m\u001b[38;5;241m.\u001b[39mdd\u001b[38;5;241m.\u001b[39msize\u001b[38;5;241m-\u001b[39m(ntaper_left\u001b[38;5;241m+\u001b[39mntaper_right)))\n\u001b[1;32m    103\u001b[0m xx, yy, zz\u001b[38;5;241m=\u001b[39m np\u001b[38;5;241m.\u001b[39mmeshgrid(z_pert, y_pert, x_pert, indexing\u001b[38;5;241m=\u001b[39m\u001b[38;5;124m'\u001b[39m\u001b[38;5;124mij\u001b[39m\u001b[38;5;124m'\u001b[39m)\n\u001b[1;32m    104\u001b[0m \u001b[38;5;28mself\u001b[39m\u001b[38;5;241m.\u001b[39mperturbation \u001b[38;5;241m=\u001b[39m xx\u001b[38;5;241m*\u001b[39myy\u001b[38;5;241m*\u001b[39mzz\n",
      "\u001b[0;31mValueError\u001b[0m: could not broadcast input array from shape (81,) into shape (10,)"
     ]
    }
   ],
   "source": [
    "from pytomoatt.checkerboard import Checker\n",
    "\n",
    "checker_model = Checker('./2_models/model_init_N61_61_61.h5')\n",
    "# study region\n",
    "R_earth = 6371.0\n",
    "\n",
    "r_min = R_earth - 50    # 50 km below the surface   (radial coordinate)\n",
    "r_max =R_earth + 10    # 10 km above the surface   (radial coordinate)\n",
    "t_min = 30.0          # 30 degrees latitude\n",
    "t_max = 32.0          # 32 degrees latitude\n",
    "p_min = 30.0          # 30 degrees longitude\n",
    "p_max = 32.0          # 32 degrees longitude\n",
    "\n",
    "# number of points in the radial, latitudinal, and longitudinal directions\n",
    "n_rtp = [61,61,61]\n",
    "\n",
    "checker_model.init_axis([R_earth-r_max, R_earth-r_min], [t_min, t_max], [p_min, p_max], n_rtp)\n",
    "\n",
    "# perturbation amplitude\n",
    "vel_pert = 0.06\n",
    "ani_pert = 0.04\n",
    "\n",
    "\n",
    "checker_model.checkerboard(\n",
    "    2, 2, 2,\n",
    "    pert_vel=0.08, pert_ani=0.04,\n",
    "    lim_x=[30.5, 31.5], lim_y=[30.5, 31.5], lim_z=[0, 40]\n",
    ")\n",
    "\n",
    "checker_model.write('2_models/model_ckb_N{:d}_{:d}_{:d}.h5'.format(*n_rtp))\n"
   ]
  }
 ],
 "metadata": {
  "kernelspec": {
   "display_name": "Python 3",
   "language": "python",
   "name": "python3"
  },
  "language_info": {
   "codemirror_mode": {
    "name": "ipython",
    "version": 3
   },
   "file_extension": ".py",
   "mimetype": "text/x-python",
   "name": "python",
   "nbconvert_exporter": "python",
   "pygments_lexer": "ipython3",
   "version": "3.9.15"
  },
  "orig_nbformat": 4,
  "vscode": {
   "interpreter": {
    "hash": "c8112a80bcc57e66f52aa6c921b20667122cfa5e8b1ad09e9dfbd3a3ba336bd6"
   }
  }
 },
 "nbformat": 4,
 "nbformat_minor": 2
}

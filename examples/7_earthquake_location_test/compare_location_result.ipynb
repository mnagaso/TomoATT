{
 "cells": [
  {
   "cell_type": "code",
   "execution_count": 1,
   "metadata": {},
   "outputs": [],
   "source": [
    "import os\n",
    "import math\n",
    "from obspy import UTCDateTime\n",
    "import numpy as np\n",
    "\n",
    "def compare_locations(fname1,fname2):\n",
    "    doc = open(fname1,'r')\n",
    "    srcrec1 = doc.readlines()\n",
    "    doc.close()\n",
    "\n",
    "    doc = open(fname2,'r')\n",
    "    srcrec2 = doc.readlines()\n",
    "    doc.close()\n",
    "\n",
    "    if(not len(srcrec1) == len(srcrec2)):\n",
    "        print(\"input srec rec files are not consistent\")\n",
    "        return \n",
    "\n",
    "    error_ortime    = []\n",
    "    error_lat       = []\n",
    "    error_lon       = []\n",
    "    error_dep       = []\n",
    "\n",
    "    cc = 0\n",
    "    for iline in range(len(srcrec1)):\n",
    "        if (cc == 0):   # event line\n",
    "            tmp = srcrec1[iline].split()\n",
    "            year    = int(tmp[1])\n",
    "            month   = int(tmp[2])\n",
    "            day     = int(tmp[3])\n",
    "            hour    = int(tmp[4])\n",
    "            minute  = int(tmp[5])\n",
    "            second  = float(tmp[6])\n",
    "            ortime1 = UTCDateTime(year,month,day,hour,minute,0) + second\n",
    "\n",
    "            lat1    = float(tmp[7])/180*math.pi*6371\n",
    "            lon1    = float(tmp[8])/180*math.pi*6371 * math.cos(lat1/180*math.pi)\n",
    "            dep1    = float(tmp[9])\n",
    "\n",
    "            tmp = srcrec2[iline].split()\n",
    "            year    = int(tmp[1])\n",
    "            month   = int(tmp[2])\n",
    "            day     = int(tmp[3])\n",
    "            hour    = int(tmp[4])\n",
    "            minute  = int(tmp[5])\n",
    "            second  = float(tmp[6])\n",
    "            ortime2 = UTCDateTime(year,month,day,hour,minute,0) + second\n",
    "\n",
    "            lat2    = float(tmp[7])/180*math.pi*6371\n",
    "            lon2    = float(tmp[8])/180*math.pi*6371 * math.cos(lat1/180*math.pi)\n",
    "            dep2    = float(tmp[9])\n",
    "\n",
    "            error_ortime.append(ortime1 - ortime2)\n",
    "            error_lat.append(lat1 - lat2)\n",
    "            error_lon.append(lon1 - lon2)\n",
    "            error_dep.append(dep1 - dep2)\n",
    "\n",
    "            ndata   = int(tmp[11])\n",
    "            # if(abs(dep1 - dep2) > 3):\n",
    "            #     print(tmp[12])\n",
    "            cc += 1\n",
    "        else:   # data line\n",
    "            if (cc == ndata):\n",
    "                cc = 0\n",
    "            else:\n",
    "                cc += 1\n",
    "\n",
    "    return (np.array(error_ortime),np.array(error_lat),np.array(error_lon),np.array(error_dep))\n",
    "\n",
    "\n"
   ]
  },
  {
   "cell_type": "code",
   "execution_count": 1,
   "metadata": {},
   "outputs": [
    {
     "ename": "NameError",
     "evalue": "name 'compare_locations' is not defined",
     "output_type": "error",
     "traceback": [
      "\u001b[1;31m---------------------------------------------------------------------------\u001b[0m",
      "\u001b[1;31mNameError\u001b[0m                                 Traceback (most recent call last)",
      "\u001b[1;32md:\\my_work\\TomoATT_share\\packages\\TomoATT\\examples\\7_earthquake_location_test\\compare_location_result.ipynb Cell 2\u001b[0m in \u001b[0;36m<cell line: 3>\u001b[1;34m()\u001b[0m\n\u001b[0;32m      <a href='vscode-notebook-cell:/d%3A/my_work/TomoATT_share/packages/TomoATT/examples/7_earthquake_location_test/compare_location_result.ipynb#W1sZmlsZQ%3D%3D?line=0'>1</a>\u001b[0m fname1 \u001b[39m=\u001b[39m \u001b[39m\"\u001b[39m\u001b[39mOUTPUT_FILES/OUTPUT_FILES_signal/src_rec_file_forward.dat\u001b[39m\u001b[39m\"\u001b[39m\n\u001b[0;32m      <a href='vscode-notebook-cell:/d%3A/my_work/TomoATT_share/packages/TomoATT/examples/7_earthquake_location_test/compare_location_result.ipynb#W1sZmlsZQ%3D%3D?line=1'>2</a>\u001b[0m fname2 \u001b[39m=\u001b[39m \u001b[39m\"\u001b[39m\u001b[39msrc_rec_obs.dat\u001b[39m\u001b[39m\"\u001b[39m\n\u001b[1;32m----> <a href='vscode-notebook-cell:/d%3A/my_work/TomoATT_share/packages/TomoATT/examples/7_earthquake_location_test/compare_location_result.ipynb#W1sZmlsZQ%3D%3D?line=2'>3</a>\u001b[0m error_ortime,error_lat,error_lon,error_dep \u001b[39m=\u001b[39m compare_locations(fname1,fname2)\n\u001b[0;32m      <a href='vscode-notebook-cell:/d%3A/my_work/TomoATT_share/packages/TomoATT/examples/7_earthquake_location_test/compare_location_result.ipynb#W1sZmlsZQ%3D%3D?line=4'>5</a>\u001b[0m \u001b[39mprint\u001b[39m(\u001b[39m\"\u001b[39m\u001b[39m%d\u001b[39;00m\u001b[39m earthquakes, the initial location errors are\u001b[39m\u001b[39m\"\u001b[39m\u001b[39m%\u001b[39m(\u001b[39mlen\u001b[39m(error_ortime)))\n\u001b[0;32m      <a href='vscode-notebook-cell:/d%3A/my_work/TomoATT_share/packages/TomoATT/examples/7_earthquake_location_test/compare_location_result.ipynb#W1sZmlsZQ%3D%3D?line=5'>6</a>\u001b[0m \u001b[39mprint\u001b[39m(\u001b[39m\"\u001b[39m\u001b[39mThe location error of ortime (s) are, max value: \u001b[39m\u001b[39m%.5g\u001b[39;00m\u001b[39m s, mean value: \u001b[39m\u001b[39m%.5g\u001b[39;00m\u001b[39m s, standard deviation: \u001b[39m\u001b[39m%.5g\u001b[39;00m\u001b[39m s.\u001b[39m\u001b[39m\"\u001b[39m\u001b[39m%\u001b[39m(\u001b[39mmax\u001b[39m(\u001b[39mabs\u001b[39m(error_ortime)), \u001b[39mabs\u001b[39m(error_ortime)\u001b[39m.\u001b[39mmean(), \u001b[39mabs\u001b[39m(error_ortime)\u001b[39m.\u001b[39mstd()))\n",
      "\u001b[1;31mNameError\u001b[0m: name 'compare_locations' is not defined"
     ]
    }
   ],
   "source": [
    "fname1 = \"OUTPUT_FILES/OUTPUT_FILES_signal/src_rec_file_forward.dat\"\n",
    "fname2 = \"src_rec_obs.dat\"\n",
    "error_ortime,error_lat,error_lon,error_dep = compare_locations(fname1,fname2)\n",
    "\n",
    "print(\"%d earthquakes, the initial location errors are\"%(len(error_ortime)))\n",
    "print(\"The location error of ortime (s) are, max value: %.5g s, mean value: %.5g s, standard deviation: %.5g s.\"%(max(abs(error_ortime)), abs(error_ortime).mean(), abs(error_ortime).std()))\n",
    "print(\"The location error of lat (km)   are, max value: %.5g km, mean value: %.5g km, standard deviation: %.5g km.\"%(max(abs(error_lat)), abs(error_lat).mean(), abs(error_lat).std()))\n",
    "print(\"The location error of lon (km)   are, max value: %.5g km, mean value: %.5g km, standard deviation: %.5g km.\"%(max(abs(error_lon)), abs(error_lon).mean(), abs(error_lon).std()))\n",
    "print(\"The location error of dep (km)   are, max value: %.5g km, mean value: %.5g km, standard deviation: %.5g km.\"%(max(abs(error_dep)), abs(error_dep).mean(), abs(error_dep).std()))\n",
    "print(\"\")"
   ]
  },
  {
   "cell_type": "code",
   "execution_count": 3,
   "metadata": {},
   "outputs": [
    {
     "name": "stdout",
     "output_type": "stream",
     "text": [
      "600 earthquakes are located using absolute traveltime data\n",
      "The location error of ortime (s) are, max value: 0.65 s, mean value: 0.0051667 s, standard deviation: 0.034698 s.\n",
      "The location error of lat (km)   are, max value: 2.7243 km, mean value: 0.029782 km, standard deviation: 0.17526 km.\n",
      "The location error of lon (km)   are, max value: 1.2744 km, mean value: 0.015018 km, standard deviation: 0.092134 km.\n",
      "The location error of dep (km)   are, max value: 3.85 km, mean value: 0.036766 km, standard deviation: 0.22238 km.\n",
      "\n"
     ]
    }
   ],
   "source": [
    "fname1 = \"OUTPUT_FILES/OUTPUT_FILES_signal/src_rec_file_forward.dat\"\n",
    "fname2 = \"OUTPUT_FILES/OUTPUT_FILES_reloc_abs/src_rec_file_reloc_obs.dat\"\n",
    "error_ortime,error_lat,error_lon,error_dep = compare_locations(fname1,fname2)\n",
    "\n",
    "print(\"%d earthquakes are located using absolute traveltime data\"%(len(error_ortime)))\n",
    "print(\"The location error of ortime (s) are, max value: %.5g s, mean value: %.5g s, standard deviation: %.5g s.\"%(max(abs(error_ortime)), abs(error_ortime).mean(), abs(error_ortime).std()))\n",
    "print(\"The location error of lat (km)   are, max value: %.5g km, mean value: %.5g km, standard deviation: %.5g km.\"%(max(abs(error_lat)), abs(error_lat).mean(), abs(error_lat).std()))\n",
    "print(\"The location error of lon (km)   are, max value: %.5g km, mean value: %.5g km, standard deviation: %.5g km.\"%(max(abs(error_lon)), abs(error_lon).mean(), abs(error_lon).std()))\n",
    "print(\"The location error of dep (km)   are, max value: %.5g km, mean value: %.5g km, standard deviation: %.5g km.\"%(max(abs(error_dep)), abs(error_dep).mean(), abs(error_dep).std()))\n",
    "print(\"\")"
   ]
  },
  {
   "cell_type": "code",
   "execution_count": 49,
   "metadata": {},
   "outputs": [
    {
     "name": "stdout",
     "output_type": "stream",
     "text": [
      "600 earthquakes are located using common receiver differential traveltime data\n",
      "The location error of ortime (s) are, max value: 2.21 s, mean value: 0.0258 s, standard deviation: 0.097088 s.\n",
      "The location error of lat (km)   are, max value: 10.753 km, mean value: 0.22326 km, standard deviation: 0.50089 km.\n",
      "The location error of lon (km)   are, max value: 19.993 km, mean value: 0.14697 km, standard deviation: 0.82367 km.\n",
      "The location error of dep (km)   are, max value: 15.673 km, mean value: 0.25259 km, standard deviation: 0.69387 km.\n",
      "\n"
     ]
    }
   ],
   "source": [
    "fname1 = \"OUTPUT_FILES/OUTPUT_FILES_signal/src_rec_file_forward.dat\"\n",
    "fname2 = \"OUTPUT_FILES/OUTPUT_FILES_reloc_cr/src_rec_file_reloc_obs.dat\"\n",
    "error_ortime,error_lat,error_lon,error_dep = compare_locations(fname1,fname2)\n",
    "\n",
    "print(\"%d earthquakes are located using common receiver differential traveltime data\"%(len(error_ortime)))\n",
    "print(\"The location error of ortime (s) are, max value: %.5g s, mean value: %.5g s, standard deviation: %.5g s.\"%(max(abs(error_ortime)), abs(error_ortime).mean(), abs(error_ortime).std()))\n",
    "print(\"The location error of lat (km)   are, max value: %.5g km, mean value: %.5g km, standard deviation: %.5g km.\"%(max(abs(error_lat)), abs(error_lat).mean(), abs(error_lat).std()))\n",
    "print(\"The location error of lon (km)   are, max value: %.5g km, mean value: %.5g km, standard deviation: %.5g km.\"%(max(abs(error_lon)), abs(error_lon).mean(), abs(error_lon).std()))\n",
    "print(\"The location error of dep (km)   are, max value: %.5g km, mean value: %.5g km, standard deviation: %.5g km.\"%(max(abs(error_dep)), abs(error_dep).mean(), abs(error_dep).std()))\n",
    "print(\"\")"
   ]
  },
  {
   "cell_type": "code",
   "execution_count": 50,
   "metadata": {},
   "outputs": [
    {
     "name": "stdout",
     "output_type": "stream",
     "text": [
      "600 earthquakes are located using both data\n",
      "The location error of ortime (s) are, max value: 0.17 s, mean value: 0.0032333 s, standard deviation: 0.011756 s.\n",
      "The location error of lat (km)   are, max value: 0.93404 km, mean value: 0.061305 km, standard deviation: 0.087628 km.\n",
      "The location error of lon (km)   are, max value: 0.53537 km, mean value: 0.038617 km, standard deviation: 0.05803 km.\n",
      "The location error of dep (km)   are, max value: 0.6848 km, mean value: 0.02203 km, standard deviation: 0.048454 km.\n",
      "\n"
     ]
    }
   ],
   "source": [
    "fname1 = \"OUTPUT_FILES/OUTPUT_FILES_signal/src_rec_file_forward.dat\"\n",
    "fname2 = \"OUTPUT_FILES/OUTPUT_FILES_reloc_abs_cr/src_rec_file_reloc_obs.dat\"\n",
    "error_ortime,error_lat,error_lon,error_dep = compare_locations(fname1,fname2)\n",
    "\n",
    "print(\"%d earthquakes are located using both data\"%(len(error_ortime)))\n",
    "print(\"The location error of ortime (s) are, max value: %.5g s, mean value: %.5g s, standard deviation: %.5g s.\"%(max(abs(error_ortime)), abs(error_ortime).mean(), abs(error_ortime).std()))\n",
    "print(\"The location error of lat (km)   are, max value: %.5g km, mean value: %.5g km, standard deviation: %.5g km.\"%(max(abs(error_lat)), abs(error_lat).mean(), abs(error_lat).std()))\n",
    "print(\"The location error of lon (km)   are, max value: %.5g km, mean value: %.5g km, standard deviation: %.5g km.\"%(max(abs(error_lon)), abs(error_lon).mean(), abs(error_lon).std()))\n",
    "print(\"The location error of dep (km)   are, max value: %.5g km, mean value: %.5g km, standard deviation: %.5g km.\"%(max(abs(error_dep)), abs(error_dep).mean(), abs(error_dep).std()))\n",
    "print(\"\")"
   ]
  }
 ],
 "metadata": {
  "kernelspec": {
   "display_name": "Python 3",
   "language": "python",
   "name": "python3"
  },
  "language_info": {
   "codemirror_mode": {
    "name": "ipython",
    "version": 3
   },
   "file_extension": ".py",
   "mimetype": "text/x-python",
   "name": "python",
   "nbconvert_exporter": "python",
   "pygments_lexer": "ipython3",
   "version": "3.10.4"
  },
  "orig_nbformat": 4,
  "vscode": {
   "interpreter": {
    "hash": "c8112a80bcc57e66f52aa6c921b20667122cfa5e8b1ad09e9dfbd3a3ba336bd6"
   }
  }
 },
 "nbformat": 4,
 "nbformat_minor": 2
}

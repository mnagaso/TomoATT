{
 "cells": [
  {
   "cell_type": "code",
   "execution_count": 13,
   "metadata": {},
   "outputs": [],
   "source": [
    "# create observed pairs from travel time\n",
    "fsrcrec = \"OUTPUT_FILES/src_rec_file_forward.dat\"\n",
    "\n",
    "# read line by line\n",
    "with open(fsrcrec, \"r\") as f:\n",
    "    lines = f.readlines()\n",
    "    \n"
   ]
  },
  {
   "cell_type": "code",
   "execution_count": 14,
   "metadata": {},
   "outputs": [],
   "source": [
    "# iterate over lines to get the line number of source definition\n",
    "\n",
    "src_lines = []\n",
    "n_recs = []\n",
    "\n",
    "irec = 0\n",
    "\n",
    "for i, line in enumerate(lines):\n",
    "    # if line includes \"src_\"\n",
    "    if \"src_\" in line:\n",
    "        # get the line number\n",
    "        src_lines.append(i)\n",
    "        \n",
    "        # get the number of receivers\n",
    "        if (i != 0):\n",
    "            n_recs.append(irec)\n",
    "        irec=0\n",
    "\n",
    "    else:\n",
    "        irec += 1\n",
    "\n",
    "# add the last number of receivers\n",
    "n_recs.append(irec)\n",
    "\n"
   ]
  },
  {
   "cell_type": "code",
   "execution_count": 15,
   "metadata": {},
   "outputs": [
    {
     "data": {
      "text/plain": [
       "'    499 1998 1 1 0 0  0.00   41.8400   26.8400    8.0000  3.00    30 src_499 1.0000\\n'"
      ]
     },
     "execution_count": 15,
     "metadata": {},
     "output_type": "execute_result"
    }
   ],
   "source": [
    "lines[src_lines[-1]]"
   ]
  },
  {
   "cell_type": "code",
   "execution_count": 16,
   "metadata": {},
   "outputs": [
    {
     "data": {
      "text/plain": [
       "30"
      ]
     },
     "execution_count": 16,
     "metadata": {},
     "output_type": "execute_result"
    }
   ],
   "source": [
    "n_recs[-1]"
   ]
  },
  {
   "cell_type": "code",
   "execution_count": 17,
   "metadata": {},
   "outputs": [],
   "source": [
    "# create new src rec file with insertion of station pairs\n",
    "\n",
    "fname = \"OUTPUT_FILES/src_rec_file_forward_pairs.dat\"\n",
    "\n",
    "n_newlines = 0\n",
    "lines_new = []\n",
    "\n",
    "import numpy as np\n",
    "def get_ids_closest_stations(rec_lines):\n",
    "    # get the distance between stations\n",
    "    dists = {}\n",
    "    for i in range(len(rec_lines)):\n",
    "        lon1=rec_lines[i].split()[3]\n",
    "        lat1=rec_lines[i].split()[4]\n",
    "        for j in range(i+1, len(rec_lines)):\n",
    "            lon2 = rec_lines[j].split()[3]\n",
    "            lat2 = rec_lines[j].split()[4]\n",
    "\n",
    "            # epicentral distance between reci and recj\n",
    "            dist = np.sqrt((float(lon1)-float(lon2))**2 + (float(lat1)-float(lat2))**2)\n",
    "\n",
    "            # store the distance\n",
    "            dists[(i,j)] = dist\n",
    "\n",
    "    # get the two closest stations\n",
    "    ist1, ist2 = min(dists, key=dists.get)\n",
    "\n",
    "    return ist1, ist2\n",
    "\n",
    "for isrc, i_src_line in enumerate(src_lines):\n",
    "    # get the number of receivers\n",
    "    nrec = n_recs[isrc]\n",
    "    \n",
    "    # get the source line\n",
    "    src_line = lines[i_src_line]\n",
    "    \n",
    "    # get the receiver lines\n",
    "    rec_lines = lines[i_src_line+1:i_src_line+nrec+1]\n",
    "\n",
    "    # select the two closest stations\n",
    "    ist1, ist2 = get_ids_closest_stations(rec_lines)\n",
    "\n",
    "    # generate station pair using the last two stations (separating by white spaces)\n",
    "    rec1 = rec_lines[ist1].split()\n",
    "    rec2 = rec_lines[ist2].split()\n",
    "\n",
    "    # generate pair line by concatenating rec1[0:6] + rec2[1:6] + rec1[6] + (float(rec1[7])-float(rec2[7]))\n",
    "    pair_line = \" \".join(rec1[0:6]) + \" \" + \" \".join(rec2[1:6]) + \" \" + rec1[6] + \" \" + str(float(rec1[7])-float(rec2[7]))+\"\\n\"\n",
    "\n",
    "    # recompose src line\n",
    "    src_new = src_line.split()\n",
    "    \n",
    "    # add +1 to the 11th column\n",
    "    src_new[11] = str(int(src_new[11])+1)\n",
    "\n",
    "    # rejoin the line\n",
    "    src_new = \" \".join(src_new)+\"\\n\"\n",
    "\n",
    "    # add new pair line to rec_lines\n",
    "    rec_lines.append(pair_line)\n",
    "\n",
    "    # add new srcs and recs to the new lines\n",
    "    lines_new.append(src_new)\n",
    "    lines_new.extend(rec_lines)\n",
    "\n",
    "    n_newlines += 1\n",
    "\n"
   ]
  },
  {
   "cell_type": "code",
   "execution_count": 18,
   "metadata": {},
   "outputs": [],
   "source": [
    "# write out lines_new\n",
    "\n",
    "with open(fname, \"w\") as f:\n",
    "    f.writelines(lines_new)"
   ]
  },
  {
   "cell_type": "code",
   "execution_count": null,
   "metadata": {},
   "outputs": [],
   "source": []
  }
 ],
 "metadata": {
  "kernelspec": {
   "display_name": "Python 3",
   "language": "python",
   "name": "python3"
  },
  "language_info": {
   "codemirror_mode": {
    "name": "ipython",
    "version": 3
   },
   "file_extension": ".py",
   "mimetype": "text/x-python",
   "name": "python",
   "nbconvert_exporter": "python",
   "pygments_lexer": "ipython3",
   "version": "3.10.8"
  },
  "orig_nbformat": 4
 },
 "nbformat": 4,
 "nbformat_minor": 2
}
